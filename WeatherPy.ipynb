{
 "cells": [
  {
   "cell_type": "code",
   "execution_count": 4,
   "metadata": {},
   "outputs": [],
   "source": [
    "# Import the dependencies.\n",
    "import pandas as pd\n",
    "import matplotlib.pyplot as plt\n",
    "import numpy as np"
   ]
  },
  {
   "cell_type": "code",
   "execution_count": 5,
   "metadata": {},
   "outputs": [
    {
     "data": {
      "text/plain": [
       "<zip at 0x1196b84c0>"
      ]
     },
     "execution_count": 5,
     "metadata": {},
     "output_type": "execute_result"
    }
   ],
   "source": [
    "# Create a set of random latitude and longitude combinations.\n",
    "lats = np.random.uniform(low=-90.000, high=90.000, size=1500)\n",
    "lngs = np.random.uniform(low=-180.000, high=180.000, size=1500)\n",
    "lat_lngs = zip(lats, lngs)\n",
    "lat_lngs"
   ]
  },
  {
   "cell_type": "code",
   "execution_count": 6,
   "metadata": {},
   "outputs": [],
   "source": [
    "# Add the latitudes and longitudes to a list.\n",
    "coordinates = list(lat_lngs)"
   ]
  },
  {
   "cell_type": "code",
   "execution_count": 7,
   "metadata": {},
   "outputs": [],
   "source": [
    "from citipy import citipy"
   ]
  },
  {
   "cell_type": "code",
   "execution_count": 8,
   "metadata": {},
   "outputs": [
    {
     "data": {
      "text/plain": [
       "625"
      ]
     },
     "execution_count": 8,
     "metadata": {},
     "output_type": "execute_result"
    }
   ],
   "source": [
    "# Create a list for holding the cities.\n",
    "cities = []\n",
    "# Identify the nearest city for each latitude and longitude combination.\n",
    "for coordinate in coordinates:\n",
    "    city = citipy.nearest_city(coordinate[0], coordinate[1]).city_name\n",
    "\n",
    "    # If the city is unique, then we will add it to the cities list.\n",
    "    if city not in cities:\n",
    "        cities.append(city)\n",
    "# Print the city count to confirm sufficient count.\n",
    "len(cities)"
   ]
  },
  {
   "cell_type": "code",
   "execution_count": 9,
   "metadata": {},
   "outputs": [
    {
     "data": {
      "text/plain": [
       "'2.25.1'"
      ]
     },
     "execution_count": 9,
     "metadata": {},
     "output_type": "execute_result"
    }
   ],
   "source": [
    "import requests\n",
    "requests.__version__"
   ]
  },
  {
   "cell_type": "code",
   "execution_count": 16,
   "metadata": {},
   "outputs": [],
   "source": [
    "# Import the requests library.\n",
    "import requests\n",
    "\n",
    "# Import the API key.\n",
    "from config import weather_api_key"
   ]
  },
  {
   "cell_type": "code",
   "execution_count": 17,
   "metadata": {},
   "outputs": [
    {
     "name": "stdout",
     "output_type": "stream",
     "text": [
      "http://api.openweathermap.org/data/2.5/weather?units=Imperial&APPID=12f636f63349a3a0857157186c4992dc\n"
     ]
    }
   ],
   "source": [
    "# Starting URL for Weather Map API Call.\n",
    "url = \"http://api.openweathermap.org/data/2.5/weather?units=Imperial&APPID=\" + weather_api_key\n",
    "print(url)"
   ]
  },
  {
   "cell_type": "code",
   "execution_count": 18,
   "metadata": {},
   "outputs": [
    {
     "name": "stdout",
     "output_type": "stream",
     "text": [
      "http://api.openweathermap.org/data/2.5/weather?units=Imperial&APPID=12f636f63349a3a0857157186c4992dc&q=Boston\n"
     ]
    }
   ],
   "source": [
    "# Create an endpoint URL for a city.\n",
    "city_url = url + \"&q=\" + \"Boston\"\n",
    "print(city_url)"
   ]
  },
  {
   "cell_type": "code",
   "execution_count": 21,
   "metadata": {},
   "outputs": [
    {
     "data": {
      "text/plain": [
       "<Response [200]>"
      ]
     },
     "execution_count": 21,
     "metadata": {},
     "output_type": "execute_result"
    }
   ],
   "source": [
    "# Make a 'Get' request for the city weather.\n",
    "city_weather = requests.get(city_url)\n",
    "city_weather"
   ]
  },
  {
   "cell_type": "code",
   "execution_count": 22,
   "metadata": {},
   "outputs": [
    {
     "data": {
      "text/plain": [
       "'{\"coord\":{\"lon\":-71.0598,\"lat\":42.3584},\"weather\":[{\"id\":804,\"main\":\"Clouds\",\"description\":\"overcast clouds\",\"icon\":\"04d\"}],\"base\":\"stations\",\"main\":{\"temp\":54.14,\"feels_like\":51.89,\"temp_min\":51.39,\"temp_max\":56.55,\"pressure\":1023,\"humidity\":56},\"visibility\":10000,\"wind\":{\"speed\":27.63,\"deg\":30,\"gust\":34.52},\"clouds\":{\"all\":100},\"dt\":1664732359,\"sys\":{\"type\":2,\"id\":2013408,\"country\":\"US\",\"sunrise\":1664707334,\"sunset\":1664749484},\"timezone\":-14400,\"id\":4930956,\"name\":\"Boston\",\"cod\":200}'"
      ]
     },
     "execution_count": 22,
     "metadata": {},
     "output_type": "execute_result"
    }
   ],
   "source": [
    "# Get the text of the 'Get' request.\n",
    "city_weather.text"
   ]
  },
  {
   "cell_type": "code",
   "execution_count": 23,
   "metadata": {},
   "outputs": [
    {
     "data": {
      "text/plain": [
       "{'coord': {'lon': -71.0598, 'lat': 42.3584},\n",
       " 'weather': [{'id': 804,\n",
       "   'main': 'Clouds',\n",
       "   'description': 'overcast clouds',\n",
       "   'icon': '04d'}],\n",
       " 'base': 'stations',\n",
       " 'main': {'temp': 54.14,\n",
       "  'feels_like': 51.89,\n",
       "  'temp_min': 51.39,\n",
       "  'temp_max': 56.55,\n",
       "  'pressure': 1023,\n",
       "  'humidity': 56},\n",
       " 'visibility': 10000,\n",
       " 'wind': {'speed': 27.63, 'deg': 30, 'gust': 34.52},\n",
       " 'clouds': {'all': 100},\n",
       " 'dt': 1664732359,\n",
       " 'sys': {'type': 2,\n",
       "  'id': 2013408,\n",
       "  'country': 'US',\n",
       "  'sunrise': 1664707334,\n",
       "  'sunset': 1664749484},\n",
       " 'timezone': -14400,\n",
       " 'id': 4930956,\n",
       " 'name': 'Boston',\n",
       " 'cod': 200}"
      ]
     },
     "execution_count": 23,
     "metadata": {},
     "output_type": "execute_result"
    }
   ],
   "source": [
    "# Get the JSON text of the 'Get' request.\n",
    "city_weather.json()"
   ]
  },
  {
   "cell_type": "code",
   "execution_count": 26,
   "metadata": {},
   "outputs": [
    {
     "name": "stdout",
     "output_type": "stream",
     "text": [
      "City Weather found.\n"
     ]
    }
   ],
   "source": [
    "# Create an endpoint URL for a city.\n",
    "city_url = url + \"&q=\" + \"Boston\"\n",
    "city_weather = requests.get(city_url)\n",
    "if city_weather.status_code == 200:\n",
    "    print(f\"City Weather found.\")\n",
    "else:\n",
    "    print(f\"City weather not found.\")"
   ]
  },
  {
   "cell_type": "code",
   "execution_count": 27,
   "metadata": {},
   "outputs": [],
   "source": [
    "# Get the JSON data.\n",
    "boston_data = city_weather.json()"
   ]
  },
  {
   "cell_type": "code",
   "execution_count": 28,
   "metadata": {},
   "outputs": [
    {
     "data": {
      "text/plain": [
       "{'type': 2,\n",
       " 'id': 2013408,\n",
       " 'country': 'US',\n",
       " 'sunrise': 1664707334,\n",
       " 'sunset': 1664749484}"
      ]
     },
     "execution_count": 28,
     "metadata": {},
     "output_type": "execute_result"
    }
   ],
   "source": [
    "boston_data['sys'] "
   ]
  },
  {
   "cell_type": "code",
   "execution_count": 30,
   "metadata": {},
   "outputs": [
    {
     "data": {
      "text/plain": [
       "'US'"
      ]
     },
     "execution_count": 30,
     "metadata": {},
     "output_type": "execute_result"
    }
   ],
   "source": [
    "boston_data['sys'] ['country'] "
   ]
  },
  {
   "cell_type": "code",
   "execution_count": 31,
   "metadata": {},
   "outputs": [
    {
     "data": {
      "text/plain": [
       "1664738527"
      ]
     },
     "execution_count": 31,
     "metadata": {},
     "output_type": "execute_result"
    }
   ],
   "source": [
    "boston_data[\"dt\"]"
   ]
  },
  {
   "cell_type": "code",
   "execution_count": 32,
   "metadata": {},
   "outputs": [
    {
     "name": "stdout",
     "output_type": "stream",
     "text": [
      "42.3584 -71.0598 55.65 59 75 27.63\n"
     ]
    }
   ],
   "source": [
    "lat = boston_data[\"coord\"][\"lat\"]\n",
    "lng = boston_data[\"coord\"][\"lon\"]\n",
    "max_temp = boston_data[\"main\"][\"temp_max\"]\n",
    "humidity = boston_data[\"main\"][\"humidity\"]\n",
    "clouds = boston_data[\"clouds\"][\"all\"]\n",
    "wind = boston_data[\"wind\"][\"speed\"]\n",
    "print(lat, lng, max_temp, humidity, clouds, wind)"
   ]
  },
  {
   "cell_type": "code",
   "execution_count": 33,
   "metadata": {},
   "outputs": [
    {
     "data": {
      "text/plain": [
       "datetime.datetime(2022, 10, 2, 19, 22, 7)"
      ]
     },
     "execution_count": 33,
     "metadata": {},
     "output_type": "execute_result"
    }
   ],
   "source": [
    "# Import the datetime module from the datetime library.\n",
    "from datetime import datetime\n",
    "# Get the date from the JSON file.\n",
    "date = boston_data[\"dt\"]\n",
    "# Convert the UTC date to a date format with year, month, day, hours, minutes, and seconds.\n",
    "datetime.utcfromtimestamp(date)"
   ]
  },
  {
   "cell_type": "code",
   "execution_count": 34,
   "metadata": {},
   "outputs": [
    {
     "data": {
      "text/plain": [
       "'2022-10-02 19:22:07'"
      ]
     },
     "execution_count": 34,
     "metadata": {},
     "output_type": "execute_result"
    }
   ],
   "source": [
    "datetime.utcfromtimestamp(date).strftime('%Y-%m-%d %H:%M:%S')"
   ]
  },
  {
   "cell_type": "code",
   "execution_count": 40,
   "metadata": {},
   "outputs": [
    {
     "name": "stdout",
     "output_type": "stream",
     "text": [
      "Beginning Data Retrieval     \n",
      "-----------------------------\n"
     ]
    }
   ],
   "source": [
    "# Import the time library and the datetime module from the datetime library \n",
    "import time\n",
    "from datetime import datetime\n",
    "# Create an empty list to hold the weather data.\n",
    "city_data = []\n",
    "# Print the beginning of the logging.\n",
    "print(\"Beginning Data Retrieval     \")\n",
    "print(\"-----------------------------\")\n",
    "\n",
    "# Create counters.\n",
    "record_count = 1\n",
    "set_count = 1"
   ]
  },
  {
   "cell_type": "code",
   "execution_count": 46,
   "metadata": {},
   "outputs": [
    {
     "name": "stdout",
     "output_type": "stream",
     "text": [
      "Processing Record 26 of Set 13 | guerrero negro\n",
      "Processing Record 27 of Set 13 | narsaq\n",
      "Processing Record 28 of Set 13 | vestmannaeyjar\n",
      "Processing Record 29 of Set 13 | airai\n",
      "Processing Record 30 of Set 13 | carnarvon\n",
      "Processing Record 31 of Set 13 | poya\n",
      "Processing Record 32 of Set 13 | albany\n",
      "Processing Record 33 of Set 13 | busselton\n",
      "Processing Record 34 of Set 13 | cayenne\n",
      "Processing Record 35 of Set 13 | ushuaia\n",
      "Processing Record 36 of Set 13 | port alfred\n",
      "Processing Record 37 of Set 13 | atuona\n",
      "Processing Record 38 of Set 13 | qaanaaq\n",
      "Processing Record 39 of Set 13 | ilulissat\n",
      "Processing Record 40 of Set 13 | sol-iletsk\n",
      "Processing Record 41 of Set 13 | sitka\n",
      "Processing Record 42 of Set 13 | mys shmidta\n",
      "City not found. Skipping...\n",
      "Processing Record 43 of Set 13 | arraial do cabo\n",
      "Processing Record 44 of Set 13 | east london\n",
      "Processing Record 45 of Set 13 | kalianget\n",
      "Processing Record 46 of Set 13 | jamestown\n",
      "Processing Record 47 of Set 13 | rikitea\n",
      "Processing Record 48 of Set 13 | tieli\n",
      "Processing Record 49 of Set 13 | san patricio\n",
      "Processing Record 50 of Set 13 | zhigansk\n",
      "Processing Record 51 of Set 13 | punta arenas\n",
      "Processing Record 52 of Set 13 | amderma\n",
      "City not found. Skipping...\n",
      "Processing Record 53 of Set 13 | finschhafen\n",
      "Processing Record 54 of Set 13 | vaini\n",
      "Processing Record 55 of Set 13 | nizhneyansk\n",
      "City not found. Skipping...\n",
      "Processing Record 56 of Set 13 | mataura\n",
      "Processing Record 57 of Set 13 | mahebourg\n",
      "Processing Record 58 of Set 13 | ostrovnoy\n",
      "Processing Record 59 of Set 13 | hambantota\n",
      "Processing Record 60 of Set 13 | bambous virieux\n",
      "Processing Record 61 of Set 13 | bayir\n",
      "Processing Record 62 of Set 13 | ruteng\n",
      "Processing Record 63 of Set 13 | hilo\n",
      "Processing Record 64 of Set 13 | castro\n",
      "Processing Record 65 of Set 13 | freeport\n",
      "Processing Record 66 of Set 13 | saskylakh\n",
      "Processing Record 67 of Set 13 | butaritari\n",
      "Processing Record 68 of Set 13 | kodiak\n",
      "Processing Record 69 of Set 13 | new port richey\n",
      "Processing Record 70 of Set 13 | hamilton\n",
      "Processing Record 71 of Set 13 | taltal\n",
      "Processing Record 72 of Set 13 | bluff\n",
      "Processing Record 73 of Set 13 | myitkyina\n",
      "Processing Record 74 of Set 13 | omboue\n",
      "Processing Record 75 of Set 13 | yellowknife\n",
      "Processing Record 1 of Set 14 | mananjary\n",
      "Processing Record 2 of Set 14 | griffith\n",
      "Processing Record 3 of Set 14 | whakatane\n",
      "Processing Record 4 of Set 14 | mullaitivu\n",
      "City not found. Skipping...\n",
      "Processing Record 5 of Set 14 | payson\n",
      "Processing Record 6 of Set 14 | aksu\n",
      "Processing Record 7 of Set 14 | bethel\n",
      "Processing Record 8 of Set 14 | rotterdam\n",
      "Processing Record 9 of Set 14 | hualmay\n",
      "Processing Record 10 of Set 14 | norman wells\n",
      "Processing Record 11 of Set 14 | kapaa\n",
      "Processing Record 12 of Set 14 | tasiilaq\n",
      "Processing Record 13 of Set 14 | puerto ayora\n",
      "Processing Record 14 of Set 14 | galgani\n",
      "City not found. Skipping...\n",
      "Processing Record 15 of Set 14 | killybegs\n",
      "Processing Record 16 of Set 14 | lebu\n",
      "Processing Record 17 of Set 14 | parati\n",
      "Processing Record 18 of Set 14 | boa vista\n",
      "Processing Record 19 of Set 14 | port-gentil\n",
      "Processing Record 20 of Set 14 | tayga\n",
      "Processing Record 21 of Set 14 | avarua\n",
      "Processing Record 22 of Set 14 | kibaya\n",
      "Processing Record 23 of Set 14 | cotonou\n",
      "Processing Record 24 of Set 14 | yaguacire\n",
      "Processing Record 25 of Set 14 | tsihombe\n",
      "City not found. Skipping...\n",
      "Processing Record 26 of Set 14 | bredasdorp\n",
      "Processing Record 27 of Set 14 | attawapiskat\n",
      "City not found. Skipping...\n",
      "Processing Record 28 of Set 14 | fortuna\n",
      "Processing Record 29 of Set 14 | cape town\n",
      "Processing Record 30 of Set 14 | warqla\n",
      "City not found. Skipping...\n",
      "Processing Record 31 of Set 14 | malangali\n",
      "Processing Record 32 of Set 14 | kedrovyy\n",
      "Processing Record 33 of Set 14 | barra do garcas\n",
      "Processing Record 34 of Set 14 | tabas\n",
      "Processing Record 35 of Set 14 | illoqqortoormiut\n",
      "City not found. Skipping...\n",
      "Processing Record 36 of Set 14 | dikson\n",
      "Processing Record 37 of Set 14 | leningradskiy\n",
      "Processing Record 38 of Set 14 | vao\n",
      "Processing Record 39 of Set 14 | saint-philippe\n",
      "Processing Record 40 of Set 14 | hermanus\n",
      "Processing Record 41 of Set 14 | half moon bay\n",
      "Processing Record 42 of Set 14 | talnakh\n",
      "Processing Record 43 of Set 14 | zhangjiakou\n",
      "Processing Record 44 of Set 14 | shahrud\n",
      "Processing Record 45 of Set 14 | chagda\n",
      "City not found. Skipping...\n",
      "Processing Record 46 of Set 14 | portland\n",
      "Processing Record 47 of Set 14 | constitucion\n",
      "Processing Record 48 of Set 14 | acapulco\n",
      "Processing Record 49 of Set 14 | nouadhibou\n",
      "Processing Record 50 of Set 14 | atar\n",
      "Processing Record 1 of Set 15 | hasaki\n",
      "Processing Record 2 of Set 15 | omsukchan\n",
      "Processing Record 3 of Set 15 | thompson\n",
      "Processing Record 4 of Set 15 | lavrentiya\n",
      "Processing Record 5 of Set 15 | sumbe\n",
      "Processing Record 6 of Set 15 | luderitz\n",
      "Processing Record 7 of Set 15 | kolpashevo\n",
      "Processing Record 8 of Set 15 | geraldton\n",
      "Processing Record 9 of Set 15 | narrabri\n",
      "Processing Record 10 of Set 15 | galle\n",
      "Processing Record 11 of Set 15 | traverse city\n",
      "Processing Record 12 of Set 15 | vieste\n",
      "Processing Record 13 of Set 15 | fukue\n",
      "Processing Record 14 of Set 15 | aklavik\n",
      "Processing Record 15 of Set 15 | pitimbu\n",
      "Processing Record 16 of Set 15 | hithadhoo\n",
      "Processing Record 17 of Set 15 | umzimvubu\n",
      "City not found. Skipping...\n",
      "Processing Record 18 of Set 15 | whitehorse\n",
      "Processing Record 19 of Set 15 | christchurch\n",
      "Processing Record 20 of Set 15 | port hedland\n",
      "Processing Record 21 of Set 15 | bassila\n",
      "Processing Record 22 of Set 15 | san nicolas\n",
      "Processing Record 23 of Set 15 | shymkent\n",
      "Processing Record 24 of Set 15 | kulhudhuffushi\n",
      "Processing Record 25 of Set 15 | daru\n",
      "Processing Record 26 of Set 15 | hobart\n",
      "Processing Record 27 of Set 15 | biloela\n",
      "Processing Record 28 of Set 15 | ulaangom\n",
      "Processing Record 29 of Set 15 | berezovyy\n",
      "Processing Record 30 of Set 15 | alotau\n",
      "City not found. Skipping...\n",
      "Processing Record 31 of Set 15 | sentyabrskiy\n",
      "City not found. Skipping...\n",
      "Processing Record 32 of Set 15 | kuche\n",
      "City not found. Skipping...\n",
      "Processing Record 33 of Set 15 | sechura\n",
      "Processing Record 34 of Set 15 | nikolskoye\n",
      "Processing Record 35 of Set 15 | seminole\n",
      "Processing Record 36 of Set 15 | itaituba\n",
      "Processing Record 37 of Set 15 | huai thalaeng\n",
      "Processing Record 38 of Set 15 | ambon\n",
      "Processing Record 39 of Set 15 | torbay\n",
      "Processing Record 40 of Set 15 | bambanglipuro\n",
      "Processing Record 41 of Set 15 | port elizabeth\n",
      "Processing Record 42 of Set 15 | beloha\n",
      "Processing Record 43 of Set 15 | new norfolk\n",
      "Processing Record 44 of Set 15 | taolanaro\n",
      "City not found. Skipping...\n",
      "Processing Record 45 of Set 15 | cabo san lucas\n",
      "Processing Record 46 of Set 15 | skibbereen\n",
      "Processing Record 47 of Set 15 | nanortalik\n",
      "Processing Record 48 of Set 15 | imbituba\n",
      "Processing Record 49 of Set 15 | abnub\n",
      "Processing Record 50 of Set 15 | kaitangata\n",
      "Processing Record 1 of Set 16 | baykit\n",
      "Processing Record 2 of Set 16 | samusu\n",
      "City not found. Skipping...\n",
      "Processing Record 3 of Set 16 | namibe\n",
      "Processing Record 4 of Set 16 | vila franca do campo\n",
      "Processing Record 5 of Set 16 | punjai puliyampatti\n",
      "Processing Record 6 of Set 16 | meulaboh\n",
      "Processing Record 7 of Set 16 | broome\n",
      "Processing Record 8 of Set 16 | tuktoyaktuk\n",
      "Processing Record 9 of Set 16 | ponta do sol\n",
      "Processing Record 10 of Set 16 | chokurdakh\n",
      "Processing Record 11 of Set 16 | esperance\n",
      "Processing Record 12 of Set 16 | marawi\n",
      "Processing Record 13 of Set 16 | ipixuna\n",
      "Processing Record 14 of Set 16 | kropotkin\n",
      "Processing Record 15 of Set 16 | mutsamudu\n",
      "City not found. Skipping...\n",
      "Processing Record 16 of Set 16 | ozernovskiy\n",
      "Processing Record 17 of Set 16 | khandyga\n",
      "Processing Record 18 of Set 16 | salvador\n",
      "Processing Record 19 of Set 16 | cherskiy\n",
      "Processing Record 20 of Set 16 | paamiut\n",
      "Processing Record 21 of Set 16 | cidreira\n",
      "Processing Record 22 of Set 16 | boisoara\n",
      "Processing Record 23 of Set 16 | iqaluit\n",
      "Processing Record 24 of Set 16 | bubaque\n",
      "Processing Record 25 of Set 16 | severo-yeniseyskiy\n",
      "Processing Record 26 of Set 16 | umba\n",
      "Processing Record 27 of Set 16 | severo-kurilsk\n",
      "Processing Record 28 of Set 16 | kenai\n",
      "Processing Record 29 of Set 16 | sitrah\n",
      "Processing Record 30 of Set 16 | mar del plata\n",
      "Processing Record 31 of Set 16 | klaksvik\n",
      "Processing Record 32 of Set 16 | vanavara\n"
     ]
    },
    {
     "name": "stdout",
     "output_type": "stream",
     "text": [
      "Processing Record 33 of Set 16 | kavieng\n",
      "Processing Record 34 of Set 16 | mergui\n",
      "City not found. Skipping...\n",
      "Processing Record 35 of Set 16 | coquimbo\n",
      "Processing Record 36 of Set 16 | ada\n",
      "Processing Record 37 of Set 16 | roquetas de mar\n",
      "Processing Record 38 of Set 16 | flin flon\n",
      "Processing Record 39 of Set 16 | catamarca\n",
      "Processing Record 40 of Set 16 | grindavik\n",
      "Processing Record 41 of Set 16 | champerico\n",
      "Processing Record 42 of Set 16 | falun\n",
      "Processing Record 43 of Set 16 | san borja\n",
      "Processing Record 44 of Set 16 | broken hill\n",
      "Processing Record 45 of Set 16 | fairbanks\n",
      "Processing Record 46 of Set 16 | wanlaweyn\n",
      "Processing Record 47 of Set 16 | tonekabon\n",
      "Processing Record 48 of Set 16 | tarudant\n",
      "City not found. Skipping...\n",
      "Processing Record 49 of Set 16 | petropavlovsk-kamchatskiy\n",
      "Processing Record 50 of Set 16 | jumla\n",
      "Processing Record 1 of Set 17 | belyy yar\n",
      "Processing Record 2 of Set 17 | rocha\n",
      "Processing Record 3 of Set 17 | dasoguz\n",
      "Processing Record 4 of Set 17 | la roche-sur-yon\n",
      "Processing Record 5 of Set 17 | chuy\n",
      "Processing Record 6 of Set 17 | pisco\n",
      "Processing Record 7 of Set 17 | labuhan\n",
      "Processing Record 8 of Set 17 | belushya guba\n",
      "City not found. Skipping...\n",
      "Processing Record 9 of Set 17 | akcakoca\n",
      "Processing Record 10 of Set 17 | altay\n",
      "Processing Record 11 of Set 17 | mbaiki\n",
      "Processing Record 12 of Set 17 | asau\n",
      "Processing Record 13 of Set 17 | monterey\n",
      "Processing Record 14 of Set 17 | vanimo\n",
      "Processing Record 15 of Set 17 | haines junction\n",
      "Processing Record 16 of Set 17 | husavik\n",
      "Processing Record 17 of Set 17 | dunedin\n",
      "Processing Record 18 of Set 17 | conceicao da barra\n",
      "Processing Record 19 of Set 17 | tagusao\n",
      "Processing Record 20 of Set 17 | vizianagaram\n",
      "Processing Record 21 of Set 17 | mitsamiouli\n",
      "Processing Record 22 of Set 17 | beyneu\n",
      "Processing Record 23 of Set 17 | bar harbor\n",
      "Processing Record 24 of Set 17 | jacareacanga\n",
      "Processing Record 25 of Set 17 | kavaratti\n",
      "Processing Record 26 of Set 17 | awbari\n",
      "Processing Record 27 of Set 17 | gigmoto\n",
      "Processing Record 28 of Set 17 | bongandanga\n",
      "Processing Record 29 of Set 17 | kasane\n",
      "Processing Record 30 of Set 17 | malpura\n",
      "Processing Record 31 of Set 17 | saint-denis\n",
      "Processing Record 32 of Set 17 | keningau\n",
      "Processing Record 33 of Set 17 | fasa\n",
      "Processing Record 34 of Set 17 | salalah\n",
      "Processing Record 35 of Set 17 | faanui\n",
      "Processing Record 36 of Set 17 | kaili\n",
      "Processing Record 37 of Set 17 | mahanoro\n",
      "Processing Record 38 of Set 17 | yura\n",
      "Processing Record 39 of Set 17 | port hardy\n",
      "Processing Record 40 of Set 17 | stokmarknes\n",
      "Processing Record 41 of Set 17 | moerai\n",
      "Processing Record 42 of Set 17 | randolph\n",
      "Processing Record 43 of Set 17 | havoysund\n",
      "Processing Record 44 of Set 17 | san cristobal\n",
      "Processing Record 45 of Set 17 | vaitupu\n",
      "City not found. Skipping...\n",
      "Processing Record 46 of Set 17 | ust-maya\n",
      "Processing Record 47 of Set 17 | kutum\n",
      "Processing Record 48 of Set 17 | souillac\n",
      "Processing Record 49 of Set 17 | cartagena\n",
      "Processing Record 50 of Set 17 | longyearbyen\n",
      "Processing Record 1 of Set 18 | tuatapere\n",
      "Processing Record 2 of Set 18 | nelson bay\n",
      "Processing Record 3 of Set 18 | mahadday weyne\n",
      "City not found. Skipping...\n",
      "Processing Record 4 of Set 18 | lalomanu\n",
      "City not found. Skipping...\n",
      "Processing Record 5 of Set 18 | lasa\n",
      "Processing Record 6 of Set 18 | vila velha\n",
      "Processing Record 7 of Set 18 | paita\n",
      "Processing Record 8 of Set 18 | sindor\n",
      "Processing Record 9 of Set 18 | sistranda\n",
      "Processing Record 10 of Set 18 | yar-sale\n",
      "Processing Record 11 of Set 18 | kaura namoda\n",
      "Processing Record 12 of Set 18 | kirakira\n",
      "Processing Record 13 of Set 18 | sombrio\n",
      "Processing Record 14 of Set 18 | dondo\n",
      "Processing Record 15 of Set 18 | mut\n",
      "Processing Record 16 of Set 18 | krasnoselkup\n",
      "Processing Record 17 of Set 18 | sabang\n",
      "Processing Record 18 of Set 18 | saint george\n",
      "Processing Record 19 of Set 18 | pallasovka\n",
      "Processing Record 20 of Set 18 | nedjo\n",
      "Processing Record 21 of Set 18 | mayo\n",
      "Processing Record 22 of Set 18 | harper\n",
      "Processing Record 23 of Set 18 | alice springs\n",
      "Processing Record 24 of Set 18 | escarcega\n",
      "Processing Record 25 of Set 18 | fairview\n",
      "Processing Record 26 of Set 18 | alta floresta\n",
      "Processing Record 27 of Set 18 | codrington\n",
      "Processing Record 28 of Set 18 | quatre cocos\n",
      "Processing Record 29 of Set 18 | waingapu\n",
      "Processing Record 30 of Set 18 | tigre\n",
      "Processing Record 31 of Set 18 | bundaberg\n",
      "Processing Record 32 of Set 18 | bengkulu\n",
      "Processing Record 33 of Set 18 | ulladulla\n",
      "Processing Record 34 of Set 18 | yokadouma\n",
      "Processing Record 35 of Set 18 | necochea\n",
      "Processing Record 36 of Set 18 | teya\n",
      "Processing Record 37 of Set 18 | juruti\n",
      "Processing Record 38 of Set 18 | maamba\n",
      "Processing Record 39 of Set 18 | copalillo\n",
      "Processing Record 40 of Set 18 | goderich\n",
      "Processing Record 41 of Set 18 | saint anthony\n",
      "Processing Record 42 of Set 18 | sambava\n",
      "Processing Record 43 of Set 18 | esil\n",
      "Processing Record 44 of Set 18 | georgetown\n",
      "Processing Record 45 of Set 18 | yumen\n",
      "Processing Record 46 of Set 18 | mount isa\n",
      "Processing Record 47 of Set 18 | alamo\n",
      "Processing Record 48 of Set 18 | maningrida\n",
      "Processing Record 49 of Set 18 | merauke\n",
      "Processing Record 50 of Set 18 | mbuji-mayi\n",
      "Processing Record 1 of Set 19 | grand-santi\n",
      "Processing Record 2 of Set 19 | viedma\n",
      "Processing Record 3 of Set 19 | mouila\n",
      "Processing Record 4 of Set 19 | korgen\n",
      "Processing Record 5 of Set 19 | la ronge\n",
      "Processing Record 6 of Set 19 | marcona\n",
      "City not found. Skipping...\n",
      "Processing Record 7 of Set 19 | padang\n",
      "Processing Record 8 of Set 19 | olonets\n",
      "Processing Record 9 of Set 19 | lata\n",
      "Processing Record 10 of Set 19 | brigantine\n",
      "Processing Record 11 of Set 19 | redmond\n",
      "Processing Record 12 of Set 19 | katobu\n",
      "Processing Record 13 of Set 19 | gamba\n",
      "Processing Record 14 of Set 19 | tessalit\n",
      "Processing Record 15 of Set 19 | bilma\n",
      "Processing Record 16 of Set 19 | shelburne\n",
      "Processing Record 17 of Set 19 | ylivieska\n",
      "Processing Record 18 of Set 19 | los llanos de aridane\n",
      "Processing Record 19 of Set 19 | ndele\n",
      "Processing Record 20 of Set 19 | presidencia roque saenz pena\n",
      "Processing Record 21 of Set 19 | labuan\n",
      "Processing Record 22 of Set 19 | seymour\n",
      "Processing Record 23 of Set 19 | mersing\n",
      "Processing Record 24 of Set 19 | upernavik\n",
      "Processing Record 25 of Set 19 | dicabisagan\n",
      "Processing Record 26 of Set 19 | sibut\n",
      "Processing Record 27 of Set 19 | cabedelo\n",
      "Processing Record 28 of Set 19 | novovasylivka\n",
      "Processing Record 29 of Set 19 | maarianhamina\n",
      "Processing Record 30 of Set 19 | ahipara\n",
      "Processing Record 31 of Set 19 | kloulklubed\n",
      "Processing Record 32 of Set 19 | raudeberg\n",
      "Processing Record 33 of Set 19 | nuuk\n",
      "Processing Record 34 of Set 19 | cockburn town\n",
      "Processing Record 35 of Set 19 | khatanga\n",
      "Processing Record 36 of Set 19 | barentsburg\n",
      "City not found. Skipping...\n",
      "Processing Record 37 of Set 19 | platanos\n",
      "Processing Record 38 of Set 19 | victoria\n",
      "Processing Record 39 of Set 19 | praia\n",
      "Processing Record 40 of Set 19 | kamaishi\n",
      "Processing Record 41 of Set 19 | tecolutla\n",
      "Processing Record 42 of Set 19 | tynda\n",
      "Processing Record 43 of Set 19 | buloh kasap\n",
      "Processing Record 44 of Set 19 | soe\n",
      "Processing Record 45 of Set 19 | koutsouras\n",
      "Processing Record 46 of Set 19 | penzance\n",
      "Processing Record 47 of Set 19 | lagoa\n",
      "Processing Record 48 of Set 19 | puerto escondido\n",
      "Processing Record 49 of Set 19 | tiksi\n",
      "Processing Record 50 of Set 19 | tres arroyos\n",
      "Processing Record 1 of Set 20 | lena\n",
      "Processing Record 2 of Set 20 | erzin\n",
      "Processing Record 3 of Set 20 | keuruu\n",
      "Processing Record 4 of Set 20 | brae\n",
      "Processing Record 5 of Set 20 | nelson\n",
      "Processing Record 6 of Set 20 | yirol\n",
      "City not found. Skipping...\n",
      "Processing Record 7 of Set 20 | oistins\n",
      "Processing Record 8 of Set 20 | winnemucca\n",
      "Processing Record 9 of Set 20 | karratha\n",
      "Processing Record 10 of Set 20 | saleaula\n",
      "City not found. Skipping...\n",
      "Processing Record 11 of Set 20 | virginia beach\n",
      "Processing Record 12 of Set 20 | stornoway\n",
      "Processing Record 13 of Set 20 | alofi\n",
      "Processing Record 14 of Set 20 | namatanai\n",
      "Processing Record 15 of Set 20 | coihaique\n",
      "Processing Record 16 of Set 20 | royan\n",
      "Processing Record 17 of Set 20 | jurm\n",
      "Processing Record 18 of Set 20 | wyndham\n",
      "Processing Record 19 of Set 20 | zhetybay\n",
      "City not found. Skipping...\n",
      "Processing Record 20 of Set 20 | north bend\n"
     ]
    },
    {
     "name": "stdout",
     "output_type": "stream",
     "text": [
      "Processing Record 21 of Set 20 | ancud\n",
      "Processing Record 22 of Set 20 | gao\n",
      "Processing Record 23 of Set 20 | mulanje\n",
      "Processing Record 24 of Set 20 | odweyne\n",
      "Processing Record 25 of Set 20 | longlac\n",
      "City not found. Skipping...\n",
      "Processing Record 26 of Set 20 | college\n",
      "Processing Record 27 of Set 20 | taoudenni\n",
      "Processing Record 28 of Set 20 | berlevag\n",
      "Processing Record 29 of Set 20 | berbera\n",
      "Processing Record 30 of Set 20 | toyooka\n",
      "Processing Record 31 of Set 20 | pedernales\n",
      "Processing Record 32 of Set 20 | port blair\n",
      "Processing Record 33 of Set 20 | voh\n",
      "Processing Record 34 of Set 20 | tabiauea\n",
      "City not found. Skipping...\n",
      "Processing Record 35 of Set 20 | sur\n",
      "Processing Record 36 of Set 20 | balabac\n",
      "Processing Record 37 of Set 20 | olafsvik\n",
      "Processing Record 38 of Set 20 | sola\n",
      "Processing Record 39 of Set 20 | nam tha\n",
      "City not found. Skipping...\n",
      "Processing Record 40 of Set 20 | montefiascone\n",
      "Processing Record 41 of Set 20 | san buenaventura\n",
      "Processing Record 42 of Set 20 | yaan\n",
      "Processing Record 43 of Set 20 | umm bab\n",
      "Processing Record 44 of Set 20 | verkhnevilyuysk\n",
      "Processing Record 45 of Set 20 | fukuma\n",
      "Processing Record 46 of Set 20 | tiarei\n",
      "Processing Record 47 of Set 20 | hermiston\n",
      "Processing Record 48 of Set 20 | tomatlan\n",
      "Processing Record 49 of Set 20 | camacha\n",
      "Processing Record 50 of Set 20 | farah\n",
      "Processing Record 1 of Set 21 | anadyr\n",
      "Processing Record 2 of Set 21 | thiruvananthapuram\n",
      "Processing Record 3 of Set 21 | denton\n",
      "Processing Record 4 of Set 21 | tambopata\n",
      "Processing Record 5 of Set 21 | ugoofaaru\n",
      "Processing Record 6 of Set 21 | kawana waters\n",
      "City not found. Skipping...\n",
      "Processing Record 7 of Set 21 | gushikawa\n",
      "Processing Record 8 of Set 21 | marzuq\n",
      "Processing Record 9 of Set 21 | melilla\n",
      "Processing Record 10 of Set 21 | kita\n",
      "Processing Record 11 of Set 21 | angoche\n",
      "Processing Record 12 of Set 21 | chegdomyn\n",
      "Processing Record 13 of Set 21 | bara\n",
      "Processing Record 14 of Set 21 | peterhead\n",
      "Processing Record 15 of Set 21 | puerto del rosario\n",
      "Processing Record 16 of Set 21 | kungurtug\n",
      "Processing Record 17 of Set 21 | bulgan\n",
      "Processing Record 18 of Set 21 | biak\n",
      "Processing Record 19 of Set 21 | tazovskiy\n",
      "Processing Record 20 of Set 21 | isabela\n",
      "Processing Record 21 of Set 21 | sept-iles\n",
      "Processing Record 22 of Set 21 | tayu\n",
      "Processing Record 23 of Set 21 | labutta\n",
      "City not found. Skipping...\n",
      "Processing Record 24 of Set 21 | pangody\n",
      "Processing Record 25 of Set 21 | arona\n",
      "Processing Record 26 of Set 21 | san quintin\n",
      "Processing Record 27 of Set 21 | port lincoln\n",
      "Processing Record 28 of Set 21 | pechora\n",
      "Processing Record 29 of Set 21 | khonuu\n",
      "City not found. Skipping...\n",
      "Processing Record 30 of Set 21 | bargal\n",
      "City not found. Skipping...\n",
      "Processing Record 31 of Set 21 | te anau\n",
      "Processing Record 32 of Set 21 | bukama\n",
      "Processing Record 33 of Set 21 | matara\n",
      "Processing Record 34 of Set 21 | barrow\n",
      "Processing Record 35 of Set 21 | bandarbeyla\n",
      "Processing Record 36 of Set 21 | komsomolskiy\n",
      "Processing Record 37 of Set 21 | pangnirtung\n",
      "Processing Record 38 of Set 21 | port macquarie\n",
      "Processing Record 39 of Set 21 | kigoma\n",
      "Processing Record 40 of Set 21 | maghama\n",
      "City not found. Skipping...\n",
      "Processing Record 41 of Set 21 | sosva\n",
      "Processing Record 42 of Set 21 | backo gradiste\n",
      "Processing Record 43 of Set 21 | puerto madryn\n",
      "Processing Record 44 of Set 21 | sakakah\n",
      "Processing Record 45 of Set 21 | manggar\n",
      "Processing Record 46 of Set 21 | finote selam\n",
      "Processing Record 47 of Set 21 | piet retief\n",
      "Processing Record 48 of Set 21 | teahupoo\n",
      "Processing Record 49 of Set 21 | mana\n",
      "Processing Record 50 of Set 21 | carmo do rio claro\n",
      "Processing Record 1 of Set 22 | san jose de guanipa\n",
      "Processing Record 2 of Set 22 | leh\n",
      "Processing Record 3 of Set 22 | hollabrunn\n",
      "Processing Record 4 of Set 22 | huarmey\n",
      "Processing Record 5 of Set 22 | plettenberg bay\n",
      "Processing Record 6 of Set 22 | waipawa\n",
      "Processing Record 7 of Set 22 | lompoc\n",
      "Processing Record 8 of Set 22 | marquette\n",
      "Processing Record 9 of Set 22 | akdepe\n",
      "Processing Record 10 of Set 22 | porto novo\n",
      "Processing Record 11 of Set 22 | annau\n",
      "Processing Record 12 of Set 22 | cerrito\n",
      "Processing Record 13 of Set 22 | hwange\n",
      "Processing Record 14 of Set 22 | weiser\n",
      "Processing Record 15 of Set 22 | porto-vecchio\n",
      "Processing Record 16 of Set 22 | grand river south east\n",
      "City not found. Skipping...\n",
      "Processing Record 17 of Set 22 | oyama\n",
      "Processing Record 18 of Set 22 | ondorhaan\n",
      "City not found. Skipping...\n",
      "Processing Record 19 of Set 22 | obera\n",
      "Processing Record 20 of Set 22 | ravar\n",
      "Processing Record 21 of Set 22 | kaeo\n",
      "Processing Record 22 of Set 22 | vila do maio\n",
      "Processing Record 23 of Set 22 | campoverde\n",
      "Processing Record 24 of Set 22 | ouadda\n",
      "Processing Record 25 of Set 22 | abu kamal\n",
      "Processing Record 26 of Set 22 | kalagarh\n",
      "Processing Record 27 of Set 22 | beipiao\n",
      "Processing Record 28 of Set 22 | moshenskoye\n",
      "Processing Record 29 of Set 22 | sarahan\n",
      "Processing Record 30 of Set 22 | clarence town\n",
      "Processing Record 31 of Set 22 | northam\n",
      "Processing Record 32 of Set 22 | pevek\n",
      "Processing Record 33 of Set 22 | gornopravdinsk\n",
      "Processing Record 34 of Set 22 | clinton\n",
      "Processing Record 35 of Set 22 | yuzhno-kurilsk\n",
      "Processing Record 36 of Set 22 | baturaja\n",
      "Processing Record 37 of Set 22 | ribeira grande\n",
      "Processing Record 38 of Set 22 | nhulunbuy\n",
      "Processing Record 39 of Set 22 | puerto madero\n",
      "Processing Record 40 of Set 22 | sioux lookout\n",
      "Processing Record 41 of Set 22 | powassan\n",
      "Processing Record 42 of Set 22 | maxixe\n",
      "Processing Record 43 of Set 22 | jinchengjiang\n",
      "City not found. Skipping...\n",
      "Processing Record 44 of Set 22 | dubbo\n",
      "Processing Record 45 of Set 22 | marion\n",
      "Processing Record 46 of Set 22 | warrington\n",
      "Processing Record 47 of Set 22 | najran\n",
      "Processing Record 48 of Set 22 | novokayakent\n",
      "Processing Record 49 of Set 22 | sohag\n",
      "Processing Record 50 of Set 22 | lagos\n",
      "Processing Record 1 of Set 23 | toliary\n",
      "City not found. Skipping...\n",
      "Processing Record 2 of Set 23 | isangel\n",
      "Processing Record 3 of Set 23 | louisbourg\n",
      "City not found. Skipping...\n",
      "Processing Record 4 of Set 23 | itapeva\n",
      "Processing Record 5 of Set 23 | sao luiz gonzaga\n",
      "Processing Record 6 of Set 23 | alyangula\n",
      "Processing Record 7 of Set 23 | bethanien\n",
      "Processing Record 8 of Set 23 | almendralejo\n",
      "Processing Record 9 of Set 23 | esmeraldas\n",
      "Processing Record 10 of Set 23 | korop\n",
      "Processing Record 11 of Set 23 | ketchikan\n",
      "Processing Record 12 of Set 23 | santa rosalia\n",
      "Processing Record 13 of Set 23 | sinnamary\n",
      "Processing Record 14 of Set 23 | san antonio\n",
      "Processing Record 15 of Set 23 | charyshskoye\n",
      "Processing Record 16 of Set 23 | dudinka\n",
      "Processing Record 17 of Set 23 | camara de lobos\n",
      "Processing Record 18 of Set 23 | tukrah\n",
      "Processing Record 19 of Set 23 | kjopsvik\n",
      "Processing Record 20 of Set 23 | riyadh\n",
      "Processing Record 21 of Set 23 | saint-pierre\n",
      "Processing Record 22 of Set 23 | saldanha\n",
      "Processing Record 23 of Set 23 | gat\n",
      "Processing Record 24 of Set 23 | tiznit\n",
      "Processing Record 25 of Set 23 | pacifica\n",
      "Processing Record 26 of Set 23 | mogadishu\n",
      "Processing Record 27 of Set 23 | srednekolymsk\n",
      "Processing Record 28 of Set 23 | bage\n",
      "Processing Record 29 of Set 23 | okhotsk\n",
      "Processing Record 30 of Set 23 | lockhart\n",
      "Processing Record 31 of Set 23 | mahibadhoo\n",
      "Processing Record 32 of Set 23 | petushki\n",
      "Processing Record 33 of Set 23 | guasdualito\n",
      "Processing Record 34 of Set 23 | sergeyevka\n",
      "Processing Record 35 of Set 23 | starokostyantyniv\n",
      "Processing Record 36 of Set 23 | hunza\n",
      "City not found. Skipping...\n",
      "Processing Record 37 of Set 23 | udachnyy\n",
      "Processing Record 38 of Set 23 | la troncal\n",
      "Processing Record 39 of Set 23 | maniitsoq\n",
      "Processing Record 40 of Set 23 | garowe\n",
      "Processing Record 41 of Set 23 | liepaja\n",
      "Processing Record 42 of Set 23 | pilar\n",
      "Processing Record 43 of Set 23 | arboletes\n",
      "Processing Record 44 of Set 23 | sao filipe\n",
      "Processing Record 45 of Set 23 | inhambane\n",
      "Processing Record 46 of Set 23 | verkh-usugli\n",
      "Processing Record 47 of Set 23 | talaga\n",
      "Processing Record 48 of Set 23 | ngunguru\n",
      "Processing Record 49 of Set 23 | caravelas\n",
      "Processing Record 50 of Set 23 | san luis\n",
      "Processing Record 1 of Set 24 | luena\n",
      "Processing Record 2 of Set 24 | buraydah\n",
      "Processing Record 3 of Set 24 | abu samrah\n",
      "Processing Record 4 of Set 24 | ratnagiri\n",
      "Processing Record 5 of Set 24 | williams lake\n"
     ]
    },
    {
     "name": "stdout",
     "output_type": "stream",
     "text": [
      "Processing Record 6 of Set 24 | independence\n",
      "Processing Record 7 of Set 24 | palabuhanratu\n",
      "City not found. Skipping...\n",
      "Processing Record 8 of Set 24 | corinto\n",
      "Processing Record 9 of Set 24 | muros\n",
      "Processing Record 10 of Set 24 | bati\n",
      "Processing Record 11 of Set 24 | cape canaveral\n",
      "Processing Record 12 of Set 24 | goba\n",
      "Processing Record 13 of Set 24 | kahului\n",
      "Processing Record 14 of Set 24 | margate\n",
      "Processing Record 15 of Set 24 | guinticgan\n",
      "Processing Record 16 of Set 24 | grand gaube\n",
      "Processing Record 17 of Set 24 | lodja\n",
      "Processing Record 18 of Set 24 | ambilobe\n",
      "Processing Record 19 of Set 24 | jalu\n",
      "Processing Record 20 of Set 24 | panaba\n",
      "Processing Record 21 of Set 24 | yatou\n",
      "Processing Record 22 of Set 24 | taggia\n",
      "Processing Record 23 of Set 24 | tumannyy\n",
      "City not found. Skipping...\n",
      "Processing Record 24 of Set 24 | srandakan\n",
      "Processing Record 25 of Set 24 | pochutla\n",
      "Processing Record 26 of Set 24 | visby\n",
      "Processing Record 27 of Set 24 | kindersley\n",
      "Processing Record 28 of Set 24 | upata\n",
      "Processing Record 29 of Set 24 | russkaya polyana\n",
      "Processing Record 30 of Set 24 | temaraia\n",
      "City not found. Skipping...\n",
      "Processing Record 31 of Set 24 | lalmohan\n",
      "Processing Record 32 of Set 24 | diffa\n",
      "Processing Record 33 of Set 24 | alexandria\n",
      "Processing Record 34 of Set 24 | westport\n",
      "Processing Record 35 of Set 24 | beringovskiy\n",
      "Processing Record 36 of Set 24 | miraflores\n",
      "Processing Record 37 of Set 24 | fort saint james\n",
      "Processing Record 38 of Set 24 | axim\n",
      "Processing Record 39 of Set 24 | joigny\n",
      "Processing Record 40 of Set 24 | vardo\n",
      "Processing Record 41 of Set 24 | mehran\n",
      "Processing Record 42 of Set 24 | dingzhou\n",
      "Processing Record 43 of Set 24 | puerto varas\n",
      "Processing Record 44 of Set 24 | escanaba\n",
      "Processing Record 45 of Set 24 | matale\n",
      "Processing Record 46 of Set 24 | launceston\n",
      "Processing Record 47 of Set 24 | port-cartier\n",
      "Processing Record 48 of Set 24 | belem\n",
      "Processing Record 49 of Set 24 | yuxia\n",
      "Processing Record 50 of Set 24 | prado\n",
      "Processing Record 1 of Set 25 | yulara\n",
      "Processing Record 2 of Set 25 | jieshi\n",
      "Processing Record 3 of Set 25 | albanel\n",
      "Processing Record 4 of Set 25 | marakkanam\n",
      "Processing Record 5 of Set 25 | ahuimanu\n",
      "Processing Record 6 of Set 25 | sorong\n",
      "Processing Record 7 of Set 25 | basco\n",
      "Processing Record 8 of Set 25 | nyurba\n",
      "Processing Record 9 of Set 25 | thunder bay\n",
      "Processing Record 10 of Set 25 | utiroa\n",
      "City not found. Skipping...\n",
      "Processing Record 11 of Set 25 | piacabucu\n",
      "Processing Record 12 of Set 25 | taitung\n",
      "Processing Record 13 of Set 25 | savannah bight\n",
      "Processing Record 14 of Set 25 | koboldo\n",
      "City not found. Skipping...\n",
      "Processing Record 15 of Set 25 | kayerkan\n",
      "Processing Record 16 of Set 25 | zhuhai\n",
      "Processing Record 17 of Set 25 | malwan\n",
      "City not found. Skipping...\n",
      "Processing Record 18 of Set 25 | dingle\n",
      "Processing Record 19 of Set 25 | kpalime\n",
      "Processing Record 20 of Set 25 | khorixas\n",
      "Processing Record 21 of Set 25 | hofn\n",
      "Processing Record 22 of Set 25 | umm lajj\n",
      "Processing Record 23 of Set 25 | saint-michel-des-saints\n",
      "Processing Record 24 of Set 25 | dzilam gonzalez\n",
      "Processing Record 25 of Set 25 | tual\n",
      "-----------------------------\n",
      "Data Retrieval Complete      \n",
      "-----------------------------\n"
     ]
    }
   ],
   "source": [
    "# Loop through all the cities in the list.\n",
    "for i, city in enumerate(cities):\n",
    "\n",
    "    # Group cities in sets of 50 for logging purposes.\n",
    "    if (i % 50 == 0 and i >= 50):\n",
    "        set_count += 1\n",
    "        record_count = 1\n",
    "        time.sleep(60)\n",
    "\n",
    "    # Create endpoint URL with each city.\n",
    "    city_url = url + \"&q=\" + city.replace(\" \",\"+\")\n",
    "\n",
    "    # Log the URL, record, and set numbers and the city.\n",
    "    print(f\"Processing Record {record_count} of Set {set_count} | {city}\")\n",
    "    # Add 1 to the record count.\n",
    "    record_count += 1    \n",
    "    # Run an API request for each of the cities.\n",
    "    try:\n",
    "        # Parse the JSON and retrieve data.\n",
    "        city_weather = requests.get(city_url).json()\n",
    "        # Parse out the needed data.\n",
    "        city_lat = city_weather[\"coord\"][\"lat\"]\n",
    "        city_lng = city_weather[\"coord\"][\"lon\"]\n",
    "        city_max_temp = city_weather[\"main\"][\"temp_max\"]\n",
    "        city_humidity = city_weather[\"main\"][\"humidity\"]\n",
    "        city_clouds = city_weather[\"clouds\"][\"all\"]\n",
    "        city_wind = city_weather[\"wind\"][\"speed\"]\n",
    "        city_country = city_weather[\"sys\"][\"country\"]\n",
    "        # Convert the date to ISO standard.\n",
    "        city_date = datetime.utcfromtimestamp(city_weather[\"dt\"]).strftime('%Y-%m-%d %H:%M:%S')\n",
    "        # Append the city information into city_data list.\n",
    "        city_data.append({\"City\": city.title(),\n",
    "                          \"Lat\": city_lat,\n",
    "                          \"Lng\": city_lng,\n",
    "                          \"Max Temp\": city_max_temp,\n",
    "                          \"Humidity\": city_humidity,\n",
    "                          \"Cloudiness\": city_clouds,\n",
    "                          \"Wind Speed\": city_wind,\n",
    "                          \"Country\": city_country,\n",
    "                          \"Date\": city_date})\n",
    "\n",
    "# If an error is experienced, skip the city.\n",
    "    except:\n",
    "        print(\"City not found. Skipping...\")\n",
    "        pass\n",
    "\n",
    "# Indicate that Data Loading is complete.\n",
    "print(\"-----------------------------\")\n",
    "print(\"Data Retrieval Complete      \")\n",
    "print(\"-----------------------------\")"
   ]
  },
  {
   "cell_type": "code",
   "execution_count": null,
   "metadata": {},
   "outputs": [],
   "source": [
    "# Convert the array of dictionaries to a Pandas DataFrame.\n",
    "city_data_df = pd.DataFrame(city_data)\n"
   ]
  },
  {
   "cell_type": "code",
   "execution_count": 51,
   "metadata": {},
   "outputs": [],
   "source": [
    "new_column_order = [\"City\", \"Country\", \"Date\", \"Lat\", \"Lng\", \"Max Temp\", \"Humidity\", \"Cloudiness\", \"Wind Speed\"]\n",
    "\n",
    "city_data_df = city_data_df[new_column_order]"
   ]
  },
  {
   "cell_type": "code",
   "execution_count": 52,
   "metadata": {},
   "outputs": [
    {
     "ename": "OSError",
     "evalue": "Cannot save file into a non-existent directory: 'weather_data'",
     "output_type": "error",
     "traceback": [
      "\u001b[0;31m---------------------------------------------------------------------------\u001b[0m",
      "\u001b[0;31mOSError\u001b[0m                                   Traceback (most recent call last)",
      "Cell \u001b[0;32mIn [52], line 4\u001b[0m\n\u001b[1;32m      2\u001b[0m output_data_file \u001b[38;5;241m=\u001b[39m \u001b[38;5;124m\"\u001b[39m\u001b[38;5;124mweather_data/cities.csv\u001b[39m\u001b[38;5;124m\"\u001b[39m\n\u001b[1;32m      3\u001b[0m \u001b[38;5;66;03m# Export the City_Data into a CSV.\u001b[39;00m\n\u001b[0;32m----> 4\u001b[0m \u001b[43mcity_data_df\u001b[49m\u001b[38;5;241;43m.\u001b[39;49m\u001b[43mto_csv\u001b[49m\u001b[43m(\u001b[49m\u001b[43moutput_data_file\u001b[49m\u001b[43m,\u001b[49m\u001b[43m \u001b[49m\u001b[43mindex_label\u001b[49m\u001b[38;5;241;43m=\u001b[39;49m\u001b[38;5;124;43m\"\u001b[39;49m\u001b[38;5;124;43mCity_ID\u001b[39;49m\u001b[38;5;124;43m\"\u001b[39;49m\u001b[43m)\u001b[49m\n",
      "File \u001b[0;32m/usr/local/lib/python3.9/site-packages/pandas/core/generic.py:3551\u001b[0m, in \u001b[0;36mNDFrame.to_csv\u001b[0;34m(self, path_or_buf, sep, na_rep, float_format, columns, header, index, index_label, mode, encoding, compression, quoting, quotechar, line_terminator, chunksize, date_format, doublequote, escapechar, decimal, errors, storage_options)\u001b[0m\n\u001b[1;32m   3540\u001b[0m df \u001b[38;5;241m=\u001b[39m \u001b[38;5;28mself\u001b[39m \u001b[38;5;28;01mif\u001b[39;00m \u001b[38;5;28misinstance\u001b[39m(\u001b[38;5;28mself\u001b[39m, ABCDataFrame) \u001b[38;5;28;01melse\u001b[39;00m \u001b[38;5;28mself\u001b[39m\u001b[38;5;241m.\u001b[39mto_frame()\n\u001b[1;32m   3542\u001b[0m formatter \u001b[38;5;241m=\u001b[39m DataFrameFormatter(\n\u001b[1;32m   3543\u001b[0m     frame\u001b[38;5;241m=\u001b[39mdf,\n\u001b[1;32m   3544\u001b[0m     header\u001b[38;5;241m=\u001b[39mheader,\n\u001b[0;32m   (...)\u001b[0m\n\u001b[1;32m   3548\u001b[0m     decimal\u001b[38;5;241m=\u001b[39mdecimal,\n\u001b[1;32m   3549\u001b[0m )\n\u001b[0;32m-> 3551\u001b[0m \u001b[38;5;28;01mreturn\u001b[39;00m \u001b[43mDataFrameRenderer\u001b[49m\u001b[43m(\u001b[49m\u001b[43mformatter\u001b[49m\u001b[43m)\u001b[49m\u001b[38;5;241;43m.\u001b[39;49m\u001b[43mto_csv\u001b[49m\u001b[43m(\u001b[49m\n\u001b[1;32m   3552\u001b[0m \u001b[43m    \u001b[49m\u001b[43mpath_or_buf\u001b[49m\u001b[43m,\u001b[49m\n\u001b[1;32m   3553\u001b[0m \u001b[43m    \u001b[49m\u001b[43mline_terminator\u001b[49m\u001b[38;5;241;43m=\u001b[39;49m\u001b[43mline_terminator\u001b[49m\u001b[43m,\u001b[49m\n\u001b[1;32m   3554\u001b[0m \u001b[43m    \u001b[49m\u001b[43msep\u001b[49m\u001b[38;5;241;43m=\u001b[39;49m\u001b[43msep\u001b[49m\u001b[43m,\u001b[49m\n\u001b[1;32m   3555\u001b[0m \u001b[43m    \u001b[49m\u001b[43mencoding\u001b[49m\u001b[38;5;241;43m=\u001b[39;49m\u001b[43mencoding\u001b[49m\u001b[43m,\u001b[49m\n\u001b[1;32m   3556\u001b[0m \u001b[43m    \u001b[49m\u001b[43merrors\u001b[49m\u001b[38;5;241;43m=\u001b[39;49m\u001b[43merrors\u001b[49m\u001b[43m,\u001b[49m\n\u001b[1;32m   3557\u001b[0m \u001b[43m    \u001b[49m\u001b[43mcompression\u001b[49m\u001b[38;5;241;43m=\u001b[39;49m\u001b[43mcompression\u001b[49m\u001b[43m,\u001b[49m\n\u001b[1;32m   3558\u001b[0m \u001b[43m    \u001b[49m\u001b[43mquoting\u001b[49m\u001b[38;5;241;43m=\u001b[39;49m\u001b[43mquoting\u001b[49m\u001b[43m,\u001b[49m\n\u001b[1;32m   3559\u001b[0m \u001b[43m    \u001b[49m\u001b[43mcolumns\u001b[49m\u001b[38;5;241;43m=\u001b[39;49m\u001b[43mcolumns\u001b[49m\u001b[43m,\u001b[49m\n\u001b[1;32m   3560\u001b[0m \u001b[43m    \u001b[49m\u001b[43mindex_label\u001b[49m\u001b[38;5;241;43m=\u001b[39;49m\u001b[43mindex_label\u001b[49m\u001b[43m,\u001b[49m\n\u001b[1;32m   3561\u001b[0m \u001b[43m    \u001b[49m\u001b[43mmode\u001b[49m\u001b[38;5;241;43m=\u001b[39;49m\u001b[43mmode\u001b[49m\u001b[43m,\u001b[49m\n\u001b[1;32m   3562\u001b[0m \u001b[43m    \u001b[49m\u001b[43mchunksize\u001b[49m\u001b[38;5;241;43m=\u001b[39;49m\u001b[43mchunksize\u001b[49m\u001b[43m,\u001b[49m\n\u001b[1;32m   3563\u001b[0m \u001b[43m    \u001b[49m\u001b[43mquotechar\u001b[49m\u001b[38;5;241;43m=\u001b[39;49m\u001b[43mquotechar\u001b[49m\u001b[43m,\u001b[49m\n\u001b[1;32m   3564\u001b[0m \u001b[43m    \u001b[49m\u001b[43mdate_format\u001b[49m\u001b[38;5;241;43m=\u001b[39;49m\u001b[43mdate_format\u001b[49m\u001b[43m,\u001b[49m\n\u001b[1;32m   3565\u001b[0m \u001b[43m    \u001b[49m\u001b[43mdoublequote\u001b[49m\u001b[38;5;241;43m=\u001b[39;49m\u001b[43mdoublequote\u001b[49m\u001b[43m,\u001b[49m\n\u001b[1;32m   3566\u001b[0m \u001b[43m    \u001b[49m\u001b[43mescapechar\u001b[49m\u001b[38;5;241;43m=\u001b[39;49m\u001b[43mescapechar\u001b[49m\u001b[43m,\u001b[49m\n\u001b[1;32m   3567\u001b[0m \u001b[43m    \u001b[49m\u001b[43mstorage_options\u001b[49m\u001b[38;5;241;43m=\u001b[39;49m\u001b[43mstorage_options\u001b[49m\u001b[43m,\u001b[49m\n\u001b[1;32m   3568\u001b[0m \u001b[43m\u001b[49m\u001b[43m)\u001b[49m\n",
      "File \u001b[0;32m/usr/local/lib/python3.9/site-packages/pandas/io/formats/format.py:1180\u001b[0m, in \u001b[0;36mDataFrameRenderer.to_csv\u001b[0;34m(self, path_or_buf, encoding, sep, columns, index_label, mode, compression, quoting, quotechar, line_terminator, chunksize, date_format, doublequote, escapechar, errors, storage_options)\u001b[0m\n\u001b[1;32m   1159\u001b[0m     created_buffer \u001b[38;5;241m=\u001b[39m \u001b[38;5;28;01mFalse\u001b[39;00m\n\u001b[1;32m   1161\u001b[0m csv_formatter \u001b[38;5;241m=\u001b[39m CSVFormatter(\n\u001b[1;32m   1162\u001b[0m     path_or_buf\u001b[38;5;241m=\u001b[39mpath_or_buf,\n\u001b[1;32m   1163\u001b[0m     line_terminator\u001b[38;5;241m=\u001b[39mline_terminator,\n\u001b[0;32m   (...)\u001b[0m\n\u001b[1;32m   1178\u001b[0m     formatter\u001b[38;5;241m=\u001b[39m\u001b[38;5;28mself\u001b[39m\u001b[38;5;241m.\u001b[39mfmt,\n\u001b[1;32m   1179\u001b[0m )\n\u001b[0;32m-> 1180\u001b[0m \u001b[43mcsv_formatter\u001b[49m\u001b[38;5;241;43m.\u001b[39;49m\u001b[43msave\u001b[49m\u001b[43m(\u001b[49m\u001b[43m)\u001b[49m\n\u001b[1;32m   1182\u001b[0m \u001b[38;5;28;01mif\u001b[39;00m created_buffer:\n\u001b[1;32m   1183\u001b[0m     \u001b[38;5;28;01massert\u001b[39;00m \u001b[38;5;28misinstance\u001b[39m(path_or_buf, StringIO)\n",
      "File \u001b[0;32m/usr/local/lib/python3.9/site-packages/pandas/io/formats/csvs.py:241\u001b[0m, in \u001b[0;36mCSVFormatter.save\u001b[0;34m(self)\u001b[0m\n\u001b[1;32m    237\u001b[0m \u001b[38;5;124;03m\"\"\"\u001b[39;00m\n\u001b[1;32m    238\u001b[0m \u001b[38;5;124;03mCreate the writer & save.\u001b[39;00m\n\u001b[1;32m    239\u001b[0m \u001b[38;5;124;03m\"\"\"\u001b[39;00m\n\u001b[1;32m    240\u001b[0m \u001b[38;5;66;03m# apply compression and byte/text conversion\u001b[39;00m\n\u001b[0;32m--> 241\u001b[0m \u001b[38;5;28;01mwith\u001b[39;00m \u001b[43mget_handle\u001b[49m\u001b[43m(\u001b[49m\n\u001b[1;32m    242\u001b[0m \u001b[43m    \u001b[49m\u001b[38;5;28;43mself\u001b[39;49m\u001b[38;5;241;43m.\u001b[39;49m\u001b[43mfilepath_or_buffer\u001b[49m\u001b[43m,\u001b[49m\n\u001b[1;32m    243\u001b[0m \u001b[43m    \u001b[49m\u001b[38;5;28;43mself\u001b[39;49m\u001b[38;5;241;43m.\u001b[39;49m\u001b[43mmode\u001b[49m\u001b[43m,\u001b[49m\n\u001b[1;32m    244\u001b[0m \u001b[43m    \u001b[49m\u001b[43mencoding\u001b[49m\u001b[38;5;241;43m=\u001b[39;49m\u001b[38;5;28;43mself\u001b[39;49m\u001b[38;5;241;43m.\u001b[39;49m\u001b[43mencoding\u001b[49m\u001b[43m,\u001b[49m\n\u001b[1;32m    245\u001b[0m \u001b[43m    \u001b[49m\u001b[43merrors\u001b[49m\u001b[38;5;241;43m=\u001b[39;49m\u001b[38;5;28;43mself\u001b[39;49m\u001b[38;5;241;43m.\u001b[39;49m\u001b[43merrors\u001b[49m\u001b[43m,\u001b[49m\n\u001b[1;32m    246\u001b[0m \u001b[43m    \u001b[49m\u001b[43mcompression\u001b[49m\u001b[38;5;241;43m=\u001b[39;49m\u001b[38;5;28;43mself\u001b[39;49m\u001b[38;5;241;43m.\u001b[39;49m\u001b[43mcompression\u001b[49m\u001b[43m,\u001b[49m\n\u001b[1;32m    247\u001b[0m \u001b[43m    \u001b[49m\u001b[43mstorage_options\u001b[49m\u001b[38;5;241;43m=\u001b[39;49m\u001b[38;5;28;43mself\u001b[39;49m\u001b[38;5;241;43m.\u001b[39;49m\u001b[43mstorage_options\u001b[49m\u001b[43m,\u001b[49m\n\u001b[1;32m    248\u001b[0m \u001b[43m\u001b[49m\u001b[43m)\u001b[49m \u001b[38;5;28;01mas\u001b[39;00m handles:\n\u001b[1;32m    249\u001b[0m \n\u001b[1;32m    250\u001b[0m     \u001b[38;5;66;03m# Note: self.encoding is irrelevant here\u001b[39;00m\n\u001b[1;32m    251\u001b[0m     \u001b[38;5;28mself\u001b[39m\u001b[38;5;241m.\u001b[39mwriter \u001b[38;5;241m=\u001b[39m csvlib\u001b[38;5;241m.\u001b[39mwriter(\n\u001b[1;32m    252\u001b[0m         handles\u001b[38;5;241m.\u001b[39mhandle,\n\u001b[1;32m    253\u001b[0m         lineterminator\u001b[38;5;241m=\u001b[39m\u001b[38;5;28mself\u001b[39m\u001b[38;5;241m.\u001b[39mline_terminator,\n\u001b[0;32m   (...)\u001b[0m\n\u001b[1;32m    258\u001b[0m         quotechar\u001b[38;5;241m=\u001b[39m\u001b[38;5;28mself\u001b[39m\u001b[38;5;241m.\u001b[39mquotechar,\n\u001b[1;32m    259\u001b[0m     )\n\u001b[1;32m    261\u001b[0m     \u001b[38;5;28mself\u001b[39m\u001b[38;5;241m.\u001b[39m_save()\n",
      "File \u001b[0;32m/usr/local/lib/python3.9/site-packages/pandas/io/common.py:694\u001b[0m, in \u001b[0;36mget_handle\u001b[0;34m(path_or_buf, mode, encoding, compression, memory_map, is_text, errors, storage_options)\u001b[0m\n\u001b[1;32m    692\u001b[0m \u001b[38;5;66;03m# Only for write methods\u001b[39;00m\n\u001b[1;32m    693\u001b[0m \u001b[38;5;28;01mif\u001b[39;00m \u001b[38;5;124m\"\u001b[39m\u001b[38;5;124mr\u001b[39m\u001b[38;5;124m\"\u001b[39m \u001b[38;5;129;01mnot\u001b[39;00m \u001b[38;5;129;01min\u001b[39;00m mode \u001b[38;5;129;01mand\u001b[39;00m is_path:\n\u001b[0;32m--> 694\u001b[0m     \u001b[43mcheck_parent_directory\u001b[49m\u001b[43m(\u001b[49m\u001b[38;5;28;43mstr\u001b[39;49m\u001b[43m(\u001b[49m\u001b[43mhandle\u001b[49m\u001b[43m)\u001b[49m\u001b[43m)\u001b[49m\n\u001b[1;32m    696\u001b[0m \u001b[38;5;28;01mif\u001b[39;00m compression:\n\u001b[1;32m    697\u001b[0m     \u001b[38;5;28;01mif\u001b[39;00m compression \u001b[38;5;241m!=\u001b[39m \u001b[38;5;124m\"\u001b[39m\u001b[38;5;124mzstd\u001b[39m\u001b[38;5;124m\"\u001b[39m:\n\u001b[1;32m    698\u001b[0m         \u001b[38;5;66;03m# compression libraries do not like an explicit text-mode\u001b[39;00m\n",
      "File \u001b[0;32m/usr/local/lib/python3.9/site-packages/pandas/io/common.py:568\u001b[0m, in \u001b[0;36mcheck_parent_directory\u001b[0;34m(path)\u001b[0m\n\u001b[1;32m    566\u001b[0m parent \u001b[38;5;241m=\u001b[39m Path(path)\u001b[38;5;241m.\u001b[39mparent\n\u001b[1;32m    567\u001b[0m \u001b[38;5;28;01mif\u001b[39;00m \u001b[38;5;129;01mnot\u001b[39;00m parent\u001b[38;5;241m.\u001b[39mis_dir():\n\u001b[0;32m--> 568\u001b[0m     \u001b[38;5;28;01mraise\u001b[39;00m \u001b[38;5;167;01mOSError\u001b[39;00m(\u001b[38;5;124mrf\u001b[39m\u001b[38;5;124m\"\u001b[39m\u001b[38;5;124mCannot save file into a non-existent directory: \u001b[39m\u001b[38;5;124m'\u001b[39m\u001b[38;5;132;01m{\u001b[39;00mparent\u001b[38;5;132;01m}\u001b[39;00m\u001b[38;5;124m'\u001b[39m\u001b[38;5;124m\"\u001b[39m)\n",
      "\u001b[0;31mOSError\u001b[0m: Cannot save file into a non-existent directory: 'weather_data'"
     ]
    }
   ],
   "source": [
    "# Create the output file (CSV).\n",
    "output_data_file = \"weather_data/cities.csv\"\n",
    "# Export the City_Data into a CSV.\n",
    "city_data_df.to_csv(output_data_file, index_label=\"City_ID\")"
   ]
  },
  {
   "cell_type": "code",
   "execution_count": null,
   "metadata": {},
   "outputs": [],
   "source": []
  }
 ],
 "metadata": {
  "kernelspec": {
   "display_name": "PythonData",
   "language": "python",
   "name": "pythondata"
  },
  "language_info": {
   "codemirror_mode": {
    "name": "ipython",
    "version": 3
   },
   "file_extension": ".py",
   "mimetype": "text/x-python",
   "name": "python",
   "nbconvert_exporter": "python",
   "pygments_lexer": "ipython3",
   "version": "3.9.2"
  }
 },
 "nbformat": 4,
 "nbformat_minor": 4
}
