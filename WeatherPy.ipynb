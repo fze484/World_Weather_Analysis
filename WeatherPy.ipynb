{
 "cells": [
  {
   "cell_type": "code",
   "execution_count": 4,
   "metadata": {},
   "outputs": [],
   "source": [
    "# Import the dependencies.\n",
    "import pandas as pd\n",
    "import matplotlib.pyplot as plt\n",
    "import numpy as np"
   ]
  },
  {
   "cell_type": "code",
   "execution_count": 5,
   "metadata": {},
   "outputs": [
    {
     "data": {
      "text/plain": [
       "<zip at 0x1196b84c0>"
      ]
     },
     "execution_count": 5,
     "metadata": {},
     "output_type": "execute_result"
    }
   ],
   "source": [
    "# Create a set of random latitude and longitude combinations.\n",
    "lats = np.random.uniform(low=-90.000, high=90.000, size=1500)\n",
    "lngs = np.random.uniform(low=-180.000, high=180.000, size=1500)\n",
    "lat_lngs = zip(lats, lngs)\n",
    "lat_lngs"
   ]
  },
  {
   "cell_type": "code",
   "execution_count": 6,
   "metadata": {},
   "outputs": [],
   "source": [
    "# Add the latitudes and longitudes to a list.\n",
    "coordinates = list(lat_lngs)"
   ]
  },
  {
   "cell_type": "code",
   "execution_count": 7,
   "metadata": {},
   "outputs": [],
   "source": [
    "from citipy import citipy"
   ]
  },
  {
   "cell_type": "code",
   "execution_count": 8,
   "metadata": {},
   "outputs": [
    {
     "data": {
      "text/plain": [
       "625"
      ]
     },
     "execution_count": 8,
     "metadata": {},
     "output_type": "execute_result"
    }
   ],
   "source": [
    "# Create a list for holding the cities.\n",
    "cities = []\n",
    "# Identify the nearest city for each latitude and longitude combination.\n",
    "for coordinate in coordinates:\n",
    "    city = citipy.nearest_city(coordinate[0], coordinate[1]).city_name\n",
    "\n",
    "    # If the city is unique, then we will add it to the cities list.\n",
    "    if city not in cities:\n",
    "        cities.append(city)\n",
    "# Print the city count to confirm sufficient count.\n",
    "len(cities)"
   ]
  },
  {
   "cell_type": "code",
   "execution_count": 9,
   "metadata": {},
   "outputs": [
    {
     "data": {
      "text/plain": [
       "'2.25.1'"
      ]
     },
     "execution_count": 9,
     "metadata": {},
     "output_type": "execute_result"
    }
   ],
   "source": [
    "import requests\n",
    "requests.__version__"
   ]
  },
  {
   "cell_type": "code",
   "execution_count": 16,
   "metadata": {},
   "outputs": [],
   "source": [
    "# Import the requests library.\n",
    "import requests\n",
    "\n",
    "# Import the API key.\n",
    "from config import weather_api_key"
   ]
  },
  {
   "cell_type": "code",
   "execution_count": 17,
   "metadata": {},
   "outputs": [
    {
     "name": "stdout",
     "output_type": "stream",
     "text": [
      "http://api.openweathermap.org/data/2.5/weather?units=Imperial&APPID=12f636f63349a3a0857157186c4992dc\n"
     ]
    }
   ],
   "source": [
    "# Starting URL for Weather Map API Call.\n",
    "url = \"http://api.openweathermap.org/data/2.5/weather?units=Imperial&APPID=\" + weather_api_key\n",
    "print(url)"
   ]
  },
  {
   "cell_type": "code",
   "execution_count": 18,
   "metadata": {},
   "outputs": [
    {
     "name": "stdout",
     "output_type": "stream",
     "text": [
      "http://api.openweathermap.org/data/2.5/weather?units=Imperial&APPID=12f636f63349a3a0857157186c4992dc&q=Boston\n"
     ]
    }
   ],
   "source": [
    "# Create an endpoint URL for a city.\n",
    "city_url = url + \"&q=\" + \"Boston\"\n",
    "print(city_url)"
   ]
  },
  {
   "cell_type": "code",
   "execution_count": 21,
   "metadata": {},
   "outputs": [
    {
     "data": {
      "text/plain": [
       "<Response [200]>"
      ]
     },
     "execution_count": 21,
     "metadata": {},
     "output_type": "execute_result"
    }
   ],
   "source": [
    "# Make a 'Get' request for the city weather.\n",
    "city_weather = requests.get(city_url)\n",
    "city_weather"
   ]
  },
  {
   "cell_type": "code",
   "execution_count": 22,
   "metadata": {},
   "outputs": [
    {
     "data": {
      "text/plain": [
       "'{\"coord\":{\"lon\":-71.0598,\"lat\":42.3584},\"weather\":[{\"id\":804,\"main\":\"Clouds\",\"description\":\"overcast clouds\",\"icon\":\"04d\"}],\"base\":\"stations\",\"main\":{\"temp\":54.14,\"feels_like\":51.89,\"temp_min\":51.39,\"temp_max\":56.55,\"pressure\":1023,\"humidity\":56},\"visibility\":10000,\"wind\":{\"speed\":27.63,\"deg\":30,\"gust\":34.52},\"clouds\":{\"all\":100},\"dt\":1664732359,\"sys\":{\"type\":2,\"id\":2013408,\"country\":\"US\",\"sunrise\":1664707334,\"sunset\":1664749484},\"timezone\":-14400,\"id\":4930956,\"name\":\"Boston\",\"cod\":200}'"
      ]
     },
     "execution_count": 22,
     "metadata": {},
     "output_type": "execute_result"
    }
   ],
   "source": [
    "# Get the text of the 'Get' request.\n",
    "city_weather.text"
   ]
  },
  {
   "cell_type": "code",
   "execution_count": 23,
   "metadata": {},
   "outputs": [
    {
     "data": {
      "text/plain": [
       "{'coord': {'lon': -71.0598, 'lat': 42.3584},\n",
       " 'weather': [{'id': 804,\n",
       "   'main': 'Clouds',\n",
       "   'description': 'overcast clouds',\n",
       "   'icon': '04d'}],\n",
       " 'base': 'stations',\n",
       " 'main': {'temp': 54.14,\n",
       "  'feels_like': 51.89,\n",
       "  'temp_min': 51.39,\n",
       "  'temp_max': 56.55,\n",
       "  'pressure': 1023,\n",
       "  'humidity': 56},\n",
       " 'visibility': 10000,\n",
       " 'wind': {'speed': 27.63, 'deg': 30, 'gust': 34.52},\n",
       " 'clouds': {'all': 100},\n",
       " 'dt': 1664732359,\n",
       " 'sys': {'type': 2,\n",
       "  'id': 2013408,\n",
       "  'country': 'US',\n",
       "  'sunrise': 1664707334,\n",
       "  'sunset': 1664749484},\n",
       " 'timezone': -14400,\n",
       " 'id': 4930956,\n",
       " 'name': 'Boston',\n",
       " 'cod': 200}"
      ]
     },
     "execution_count": 23,
     "metadata": {},
     "output_type": "execute_result"
    }
   ],
   "source": [
    "# Get the JSON text of the 'Get' request.\n",
    "city_weather.json()"
   ]
  },
  {
   "cell_type": "code",
   "execution_count": 26,
   "metadata": {},
   "outputs": [
    {
     "name": "stdout",
     "output_type": "stream",
     "text": [
      "City Weather found.\n"
     ]
    }
   ],
   "source": [
    "# Create an endpoint URL for a city.\n",
    "city_url = url + \"&q=\" + \"Boston\"\n",
    "city_weather = requests.get(city_url)\n",
    "if city_weather.status_code == 200:\n",
    "    print(f\"City Weather found.\")\n",
    "else:\n",
    "    print(f\"City weather not found.\")"
   ]
  },
  {
   "cell_type": "code",
   "execution_count": 27,
   "metadata": {},
   "outputs": [],
   "source": [
    "# Get the JSON data.\n",
    "boston_data = city_weather.json()"
   ]
  },
  {
   "cell_type": "code",
   "execution_count": 28,
   "metadata": {},
   "outputs": [
    {
     "data": {
      "text/plain": [
       "{'type': 2,\n",
       " 'id': 2013408,\n",
       " 'country': 'US',\n",
       " 'sunrise': 1664707334,\n",
       " 'sunset': 1664749484}"
      ]
     },
     "execution_count": 28,
     "metadata": {},
     "output_type": "execute_result"
    }
   ],
   "source": [
    "boston_data['sys'] "
   ]
  },
  {
   "cell_type": "code",
   "execution_count": 30,
   "metadata": {},
   "outputs": [
    {
     "data": {
      "text/plain": [
       "'US'"
      ]
     },
     "execution_count": 30,
     "metadata": {},
     "output_type": "execute_result"
    }
   ],
   "source": [
    "boston_data['sys'] ['country'] "
   ]
  },
  {
   "cell_type": "code",
   "execution_count": 31,
   "metadata": {},
   "outputs": [
    {
     "data": {
      "text/plain": [
       "1664738527"
      ]
     },
     "execution_count": 31,
     "metadata": {},
     "output_type": "execute_result"
    }
   ],
   "source": [
    "boston_data[\"dt\"]"
   ]
  },
  {
   "cell_type": "code",
   "execution_count": 32,
   "metadata": {},
   "outputs": [
    {
     "name": "stdout",
     "output_type": "stream",
     "text": [
      "42.3584 -71.0598 55.65 59 75 27.63\n"
     ]
    }
   ],
   "source": [
    "lat = boston_data[\"coord\"][\"lat\"]\n",
    "lng = boston_data[\"coord\"][\"lon\"]\n",
    "max_temp = boston_data[\"main\"][\"temp_max\"]\n",
    "humidity = boston_data[\"main\"][\"humidity\"]\n",
    "clouds = boston_data[\"clouds\"][\"all\"]\n",
    "wind = boston_data[\"wind\"][\"speed\"]\n",
    "print(lat, lng, max_temp, humidity, clouds, wind)"
   ]
  },
  {
   "cell_type": "code",
   "execution_count": 33,
   "metadata": {},
   "outputs": [
    {
     "data": {
      "text/plain": [
       "datetime.datetime(2022, 10, 2, 19, 22, 7)"
      ]
     },
     "execution_count": 33,
     "metadata": {},
     "output_type": "execute_result"
    }
   ],
   "source": [
    "# Import the datetime module from the datetime library.\n",
    "from datetime import datetime\n",
    "# Get the date from the JSON file.\n",
    "date = boston_data[\"dt\"]\n",
    "# Convert the UTC date to a date format with year, month, day, hours, minutes, and seconds.\n",
    "datetime.utcfromtimestamp(date)"
   ]
  },
  {
   "cell_type": "code",
   "execution_count": 34,
   "metadata": {},
   "outputs": [
    {
     "data": {
      "text/plain": [
       "'2022-10-02 19:22:07'"
      ]
     },
     "execution_count": 34,
     "metadata": {},
     "output_type": "execute_result"
    }
   ],
   "source": [
    "datetime.utcfromtimestamp(date).strftime('%Y-%m-%d %H:%M:%S')"
   ]
  },
  {
   "cell_type": "code",
   "execution_count": 40,
   "metadata": {},
   "outputs": [
    {
     "name": "stdout",
     "output_type": "stream",
     "text": [
      "Beginning Data Retrieval     \n",
      "-----------------------------\n"
     ]
    }
   ],
   "source": [
    "# Import the time library and the datetime module from the datetime library \n",
    "import time\n",
    "from datetime import datetime\n",
    "# Create an empty list to hold the weather data.\n",
    "city_data = []\n",
    "# Print the beginning of the logging.\n",
    "print(\"Beginning Data Retrieval     \")\n",
    "print(\"-----------------------------\")\n",
    "\n",
    "# Create counters.\n",
    "record_count = 1\n",
    "set_count = 1"
   ]
  },
  {
   "cell_type": "code",
   "execution_count": null,
   "metadata": {},
   "outputs": [
    {
     "name": "stdout",
     "output_type": "stream",
     "text": [
      "Processing Record 1 of Set 1 | guerrero negro\n",
      "Processing Record 2 of Set 1 | narsaq\n",
      "Processing Record 3 of Set 1 | vestmannaeyjar\n",
      "Processing Record 4 of Set 1 | airai\n",
      "Processing Record 5 of Set 1 | carnarvon\n",
      "Processing Record 6 of Set 1 | poya\n",
      "Processing Record 7 of Set 1 | albany\n",
      "Processing Record 8 of Set 1 | busselton\n",
      "Processing Record 9 of Set 1 | cayenne\n",
      "Processing Record 10 of Set 1 | ushuaia\n",
      "Processing Record 11 of Set 1 | port alfred\n",
      "Processing Record 12 of Set 1 | atuona\n",
      "Processing Record 13 of Set 1 | qaanaaq\n",
      "Processing Record 14 of Set 1 | ilulissat\n",
      "Processing Record 15 of Set 1 | sol-iletsk\n",
      "Processing Record 16 of Set 1 | sitka\n",
      "Processing Record 17 of Set 1 | mys shmidta\n",
      "Processing Record 18 of Set 1 | arraial do cabo\n",
      "Processing Record 19 of Set 1 | east london\n",
      "Processing Record 20 of Set 1 | kalianget\n",
      "Processing Record 21 of Set 1 | jamestown\n",
      "Processing Record 22 of Set 1 | rikitea\n",
      "Processing Record 23 of Set 1 | tieli\n",
      "Processing Record 24 of Set 1 | san patricio\n",
      "Processing Record 25 of Set 1 | zhigansk\n",
      "Processing Record 26 of Set 1 | punta arenas\n",
      "Processing Record 27 of Set 1 | amderma\n",
      "Processing Record 28 of Set 1 | finschhafen\n",
      "Processing Record 29 of Set 1 | vaini\n",
      "Processing Record 30 of Set 1 | nizhneyansk\n",
      "Processing Record 31 of Set 1 | mataura\n",
      "Processing Record 32 of Set 1 | mahebourg\n",
      "Processing Record 33 of Set 1 | ostrovnoy\n",
      "Processing Record 34 of Set 1 | hambantota\n",
      "Processing Record 35 of Set 1 | bambous virieux\n",
      "Processing Record 36 of Set 1 | bayir\n",
      "Processing Record 37 of Set 1 | ruteng\n",
      "Processing Record 38 of Set 1 | hilo\n",
      "Processing Record 39 of Set 1 | castro\n",
      "Processing Record 40 of Set 1 | freeport\n",
      "Processing Record 41 of Set 1 | saskylakh\n",
      "Processing Record 42 of Set 1 | butaritari\n",
      "Processing Record 43 of Set 1 | kodiak\n",
      "Processing Record 44 of Set 1 | new port richey\n",
      "Processing Record 45 of Set 1 | hamilton\n",
      "Processing Record 46 of Set 1 | taltal\n",
      "Processing Record 47 of Set 1 | bluff\n",
      "Processing Record 48 of Set 1 | myitkyina\n",
      "Processing Record 49 of Set 1 | omboue\n",
      "Processing Record 50 of Set 1 | yellowknife\n",
      "Processing Record 1 of Set 2 | mananjary\n",
      "Processing Record 2 of Set 2 | griffith\n",
      "Processing Record 3 of Set 2 | whakatane\n",
      "Processing Record 4 of Set 2 | mullaitivu\n",
      "Processing Record 5 of Set 2 | payson\n",
      "Processing Record 6 of Set 2 | aksu\n",
      "Processing Record 7 of Set 2 | bethel\n",
      "Processing Record 8 of Set 2 | rotterdam\n",
      "Processing Record 9 of Set 2 | hualmay\n",
      "Processing Record 10 of Set 2 | norman wells\n",
      "Processing Record 11 of Set 2 | kapaa\n",
      "Processing Record 12 of Set 2 | tasiilaq\n",
      "Processing Record 13 of Set 2 | puerto ayora\n",
      "Processing Record 14 of Set 2 | galgani\n",
      "Processing Record 15 of Set 2 | killybegs\n",
      "Processing Record 16 of Set 2 | lebu\n",
      "Processing Record 17 of Set 2 | parati\n",
      "Processing Record 18 of Set 2 | boa vista\n",
      "Processing Record 19 of Set 2 | port-gentil\n",
      "Processing Record 20 of Set 2 | tayga\n",
      "Processing Record 21 of Set 2 | avarua\n",
      "Processing Record 22 of Set 2 | kibaya\n",
      "Processing Record 23 of Set 2 | cotonou\n",
      "Processing Record 24 of Set 2 | yaguacire\n",
      "Processing Record 25 of Set 2 | tsihombe\n",
      "Processing Record 26 of Set 2 | bredasdorp\n",
      "Processing Record 27 of Set 2 | attawapiskat\n",
      "Processing Record 28 of Set 2 | fortuna\n",
      "Processing Record 29 of Set 2 | cape town\n",
      "Processing Record 30 of Set 2 | warqla\n",
      "Processing Record 31 of Set 2 | malangali\n",
      "Processing Record 32 of Set 2 | kedrovyy\n",
      "Processing Record 33 of Set 2 | barra do garcas\n",
      "Processing Record 34 of Set 2 | tabas\n",
      "Processing Record 35 of Set 2 | illoqqortoormiut\n",
      "Processing Record 36 of Set 2 | dikson\n",
      "Processing Record 37 of Set 2 | leningradskiy\n",
      "Processing Record 38 of Set 2 | vao\n",
      "Processing Record 39 of Set 2 | saint-philippe\n",
      "Processing Record 40 of Set 2 | hermanus\n",
      "Processing Record 41 of Set 2 | half moon bay\n",
      "Processing Record 42 of Set 2 | talnakh\n",
      "Processing Record 43 of Set 2 | zhangjiakou\n",
      "Processing Record 44 of Set 2 | shahrud\n",
      "Processing Record 45 of Set 2 | chagda\n",
      "Processing Record 46 of Set 2 | portland\n",
      "Processing Record 47 of Set 2 | constitucion\n",
      "Processing Record 48 of Set 2 | acapulco\n",
      "Processing Record 49 of Set 2 | nouadhibou\n",
      "Processing Record 50 of Set 2 | atar\n",
      "Processing Record 1 of Set 3 | hasaki\n",
      "Processing Record 2 of Set 3 | omsukchan\n",
      "Processing Record 3 of Set 3 | thompson\n",
      "Processing Record 4 of Set 3 | lavrentiya\n",
      "Processing Record 5 of Set 3 | sumbe\n",
      "Processing Record 6 of Set 3 | luderitz\n",
      "Processing Record 7 of Set 3 | kolpashevo\n",
      "Processing Record 8 of Set 3 | geraldton\n",
      "Processing Record 9 of Set 3 | narrabri\n",
      "Processing Record 10 of Set 3 | galle\n",
      "Processing Record 11 of Set 3 | traverse city\n",
      "Processing Record 12 of Set 3 | vieste\n",
      "Processing Record 13 of Set 3 | fukue\n",
      "Processing Record 14 of Set 3 | aklavik\n",
      "Processing Record 15 of Set 3 | pitimbu\n",
      "Processing Record 16 of Set 3 | hithadhoo\n",
      "Processing Record 17 of Set 3 | umzimvubu\n",
      "Processing Record 18 of Set 3 | whitehorse\n",
      "Processing Record 19 of Set 3 | christchurch\n",
      "Processing Record 20 of Set 3 | port hedland\n",
      "Processing Record 21 of Set 3 | bassila\n",
      "Processing Record 22 of Set 3 | san nicolas\n",
      "Processing Record 23 of Set 3 | shymkent\n",
      "Processing Record 24 of Set 3 | kulhudhuffushi\n",
      "Processing Record 25 of Set 3 | daru\n",
      "Processing Record 26 of Set 3 | hobart\n",
      "Processing Record 27 of Set 3 | biloela\n",
      "Processing Record 28 of Set 3 | ulaangom\n",
      "Processing Record 29 of Set 3 | berezovyy\n",
      "Processing Record 30 of Set 3 | alotau\n",
      "Processing Record 31 of Set 3 | sentyabrskiy\n",
      "Processing Record 32 of Set 3 | kuche\n",
      "Processing Record 33 of Set 3 | sechura\n",
      "Processing Record 34 of Set 3 | nikolskoye\n",
      "Processing Record 35 of Set 3 | seminole\n",
      "Processing Record 36 of Set 3 | itaituba\n",
      "Processing Record 37 of Set 3 | huai thalaeng\n",
      "Processing Record 38 of Set 3 | ambon\n",
      "Processing Record 39 of Set 3 | torbay\n",
      "Processing Record 40 of Set 3 | bambanglipuro\n",
      "Processing Record 41 of Set 3 | port elizabeth\n",
      "Processing Record 42 of Set 3 | beloha\n",
      "Processing Record 43 of Set 3 | new norfolk\n",
      "Processing Record 44 of Set 3 | taolanaro\n",
      "Processing Record 45 of Set 3 | cabo san lucas\n",
      "Processing Record 46 of Set 3 | skibbereen\n",
      "Processing Record 47 of Set 3 | nanortalik\n",
      "Processing Record 48 of Set 3 | imbituba\n",
      "Processing Record 49 of Set 3 | abnub\n",
      "Processing Record 50 of Set 3 | kaitangata\n",
      "Processing Record 1 of Set 4 | baykit\n",
      "Processing Record 2 of Set 4 | samusu\n",
      "Processing Record 3 of Set 4 | namibe\n",
      "Processing Record 4 of Set 4 | vila franca do campo\n",
      "Processing Record 5 of Set 4 | punjai puliyampatti\n",
      "Processing Record 6 of Set 4 | meulaboh\n",
      "Processing Record 7 of Set 4 | broome\n",
      "Processing Record 8 of Set 4 | tuktoyaktuk\n",
      "Processing Record 9 of Set 4 | ponta do sol\n",
      "Processing Record 10 of Set 4 | chokurdakh\n",
      "Processing Record 11 of Set 4 | esperance\n",
      "Processing Record 12 of Set 4 | marawi\n",
      "Processing Record 13 of Set 4 | ipixuna\n",
      "Processing Record 14 of Set 4 | kropotkin\n",
      "Processing Record 15 of Set 4 | mutsamudu\n",
      "Processing Record 16 of Set 4 | ozernovskiy\n",
      "Processing Record 17 of Set 4 | khandyga\n",
      "Processing Record 18 of Set 4 | salvador\n",
      "Processing Record 19 of Set 4 | cherskiy\n",
      "Processing Record 20 of Set 4 | paamiut\n",
      "Processing Record 21 of Set 4 | cidreira\n",
      "Processing Record 22 of Set 4 | boisoara\n",
      "Processing Record 23 of Set 4 | iqaluit\n",
      "Processing Record 24 of Set 4 | bubaque\n",
      "Processing Record 25 of Set 4 | severo-yeniseyskiy\n",
      "Processing Record 26 of Set 4 | umba\n",
      "Processing Record 27 of Set 4 | severo-kurilsk\n",
      "Processing Record 28 of Set 4 | kenai\n",
      "Processing Record 29 of Set 4 | sitrah\n",
      "Processing Record 30 of Set 4 | mar del plata\n",
      "Processing Record 31 of Set 4 | klaksvik\n",
      "Processing Record 32 of Set 4 | vanavara\n",
      "Processing Record 33 of Set 4 | kavieng\n",
      "Processing Record 34 of Set 4 | mergui\n",
      "Processing Record 35 of Set 4 | coquimbo\n",
      "Processing Record 36 of Set 4 | ada\n",
      "Processing Record 37 of Set 4 | roquetas de mar\n",
      "Processing Record 38 of Set 4 | flin flon\n",
      "Processing Record 39 of Set 4 | catamarca\n",
      "Processing Record 40 of Set 4 | grindavik\n",
      "Processing Record 41 of Set 4 | champerico\n",
      "Processing Record 42 of Set 4 | falun\n",
      "Processing Record 43 of Set 4 | san borja\n",
      "Processing Record 44 of Set 4 | broken hill\n",
      "Processing Record 45 of Set 4 | fairbanks\n",
      "Processing Record 46 of Set 4 | wanlaweyn\n",
      "Processing Record 47 of Set 4 | tonekabon\n",
      "Processing Record 48 of Set 4 | tarudant\n",
      "Processing Record 49 of Set 4 | petropavlovsk-kamchatskiy\n",
      "Processing Record 50 of Set 4 | jumla\n"
     ]
    }
   ],
   "source": [
    "# Loop through all the cities in the list.\n",
    "for i, city in enumerate(cities):\n",
    "\n",
    "    # Group cities in sets of 50 for logging purposes.\n",
    "    if (i % 50 == 0 and i >= 50):\n",
    "        set_count += 1\n",
    "        record_count = 1\n",
    "        time.sleep(60)\n",
    "\n",
    "    # Create endpoint URL with each city.\n",
    "    city_url = url + \"&q=\" + city.replace(\" \",\"+\")\n",
    "\n",
    "    # Log the URL, record, and set numbers and the city.\n",
    "    print(f\"Processing Record {record_count} of Set {set_count} | {city}\")\n",
    "    # Add 1 to the record count.\n",
    "    record_count += 1    "
   ]
  },
  {
   "cell_type": "code",
   "execution_count": null,
   "metadata": {},
   "outputs": [],
   "source": [
    "# Run an API request for each of the cities.\n",
    "    try:\n",
    "        # Parse the JSON and retrieve data.\n",
    "        city_weather = requests.get(city_url).json()\n",
    "        # Parse out the needed data.\n",
    "        city_lat = city_weather[\"coord\"][\"lat\"]\n",
    "        city_lng = city_weather[\"coord\"][\"lon\"]\n",
    "        city_max_temp = city_weather[\"main\"][\"temp_max\"]\n",
    "        city_humidity = city_weather[\"main\"][\"humidity\"]\n",
    "        city_clouds = city_weather[\"clouds\"][\"all\"]\n",
    "        city_wind = city_weather[\"wind\"][\"speed\"]\n",
    "        city_country = city_weather[\"sys\"][\"country\"]\n",
    "        # Convert the date to ISO standard.\n",
    "        city_date = datetime.utcfromtimestamp(city_weather[\"dt\"]).strftime('%Y-%m-%d %H:%M:%S')\n",
    "        # Append the city information into city_data list.\n",
    "        city_data.append({\"City\": city.title(),\n",
    "                          \"Lat\": city_lat,\n",
    "                          \"Lng\": city_lng,\n",
    "                          \"Max Temp\": city_max_temp,\n",
    "                          \"Humidity\": city_humidity,\n",
    "                          \"Cloudiness\": city_clouds,\n",
    "                          \"Wind Speed\": city_wind,\n",
    "                          \"Country\": city_country,\n",
    "                          \"Date\": city_date})\n",
    "\n",
    "# If an error is experienced, skip the city.\n",
    "    except:\n",
    "        print(\"City not found. Skipping...\")\n",
    "        pass\n",
    "\n",
    "# Indicate that Data Loading is complete.\n",
    "print(\"-----------------------------\")\n",
    "print(\"Data Retrieval Complete      \")\n",
    "print(\"-----------------------------\")"
   ]
  },
  {
   "cell_type": "code",
   "execution_count": null,
   "metadata": {},
   "outputs": [],
   "source": []
  }
 ],
 "metadata": {
  "kernelspec": {
   "display_name": "PythonData",
   "language": "python",
   "name": "pythondata"
  },
  "language_info": {
   "codemirror_mode": {
    "name": "ipython",
    "version": 3
   },
   "file_extension": ".py",
   "mimetype": "text/x-python",
   "name": "python",
   "nbconvert_exporter": "python",
   "pygments_lexer": "ipython3",
   "version": "3.9.2"
  }
 },
 "nbformat": 4,
 "nbformat_minor": 4
}
